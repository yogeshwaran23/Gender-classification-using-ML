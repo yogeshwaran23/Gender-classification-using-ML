{
 "cells": [
  {
   "cell_type": "code",
   "execution_count": 1,
   "metadata": {
    "id": "o8zq3Eg4ylPS"
   },
   "outputs": [],
   "source": [
    "#importing the dependencies\n",
    "import numpy as np\n",
    "import pandas as pd\n",
    "import tensorflow as tf\n",
    "from keras.preprocessing.image import ImageDataGenerator\n"
   ]
  },
  {
   "cell_type": "code",
   "execution_count": 15,
   "metadata": {
    "id": "i-mRKw9ox_Dh"
   },
   "outputs": [
    {
     "name": "stdout",
     "output_type": "stream",
     "text": [
      "Found 47009 images belonging to 2 classes.\n"
     ]
    }
   ],
   "source": [
    "#PREPROCESSING THE TRAININNG SET AND TEST SET\n",
    "\n",
    "#training set\n",
    "train_datagen = ImageDataGenerator(rescale = 1./255,\n",
    "                                   shear_range = 0.2,\n",
    "                                   zoom_range = 0.2,\n",
    "                                   horizontal_flip = True)\n",
    "training_set = train_datagen.flow_from_directory('dataset/training',\n",
    "                                                 target_size = (124, 124),\n",
    "                                                 batch_size = 300,\n",
    "                                                 class_mode = 'binary')\n"
   ]
  },
  {
   "cell_type": "code",
   "execution_count": 16,
   "metadata": {
    "id": "vcus_H_mzFBG"
   },
   "outputs": [
    {
     "name": "stdout",
     "output_type": "stream",
     "text": [
      "Found 11649 images belonging to 2 classes.\n"
     ]
    }
   ],
   "source": [
    "#test set\n",
    "test_datagen = ImageDataGenerator(rescale = 1./255)\n",
    "test_set = test_datagen.flow_from_directory('dataset/Validation',\n",
    "                                            target_size = (124, 124),\n",
    "                                            batch_size = 300,\n",
    "                                            class_mode = 'binary')"
   ]
  },
  {
   "cell_type": "code",
   "execution_count": 17,
   "metadata": {
    "id": "bKT1uE0dzIw7"
   },
   "outputs": [],
   "source": [
    "#BUILDING THE CNN MODEL\n",
    "cnn = tf.keras.models.Sequential()\n",
    "\n",
    "#convolutional layer\n",
    "cnn.add(tf.keras.layers.Conv2D(filters=32,kernel_size=3,activation='relu',input_shape=[124,124,3]))\n",
    "\n",
    "#polling layer\n",
    "cnn.add(tf.keras.layers.MaxPool2D(pool_size=2,strides=2))\n",
    "\n",
    "#second convolutional layer\n",
    "cnn.add(tf.keras.layers.Conv2D(filters=32,kernel_size=3,activation='relu'))\n",
    "cnn.add(tf.keras.layers.MaxPool2D(pool_size=2,strides=2))\n",
    "\n",
    "#flatterning layer\n",
    "cnn.add(tf.keras.layers.Flatten())\n",
    "\n",
    "#full connection\n",
    "cnn.add(tf.keras.layers.Dense(units=128, activation='relu'))\n",
    "\n",
    "#output layers\n",
    "cnn.add(tf.keras.layers.Dense(units=1,activation='sigmoid'))"
   ]
  },
  {
   "cell_type": "code",
   "execution_count": 18,
   "metadata": {
    "id": "3J_l9Wq51ifF"
   },
   "outputs": [
    {
     "name": "stdout",
     "output_type": "stream",
     "text": [
      "Epoch 1/25\n",
      "157/157 [==============================] - 878s 6s/step - loss: 0.4593 - accuracy: 0.7956 - val_loss: 0.2349 - val_accuracy: 0.9112\n",
      "Epoch 2/25\n",
      "157/157 [==============================] - 400s 3s/step - loss: 0.2479 - accuracy: 0.9067 - val_loss: 0.1780 - val_accuracy: 0.9357\n",
      "Epoch 3/25\n",
      "157/157 [==============================] - 396s 3s/step - loss: 0.2132 - accuracy: 0.9189 - val_loss: 0.1634 - val_accuracy: 0.9402\n",
      "Epoch 4/25\n",
      "157/157 [==============================] - 385s 2s/step - loss: 0.1867 - accuracy: 0.9311 - val_loss: 0.1467 - val_accuracy: 0.9462\n",
      "Epoch 5/25\n",
      "157/157 [==============================] - 364s 2s/step - loss: 0.1830 - accuracy: 0.9315 - val_loss: 0.1514 - val_accuracy: 0.9411\n",
      "Epoch 6/25\n",
      "157/157 [==============================] - 378s 2s/step - loss: 0.1677 - accuracy: 0.9371 - val_loss: 0.1360 - val_accuracy: 0.9506\n",
      "Epoch 7/25\n",
      "157/157 [==============================] - 378s 2s/step - loss: 0.1606 - accuracy: 0.9400 - val_loss: 0.1549 - val_accuracy: 0.9425\n",
      "Epoch 8/25\n",
      "157/157 [==============================] - 351s 2s/step - loss: 0.1501 - accuracy: 0.9440 - val_loss: 0.1258 - val_accuracy: 0.9525\n",
      "Epoch 9/25\n",
      "157/157 [==============================] - 346s 2s/step - loss: 0.1468 - accuracy: 0.9465 - val_loss: 0.1128 - val_accuracy: 0.9579\n",
      "Epoch 10/25\n",
      "157/157 [==============================] - 335s 2s/step - loss: 0.1442 - accuracy: 0.9459 - val_loss: 0.1151 - val_accuracy: 0.9558\n",
      "Epoch 11/25\n",
      "157/157 [==============================] - 323s 2s/step - loss: 0.1383 - accuracy: 0.9492 - val_loss: 0.1237 - val_accuracy: 0.9528\n",
      "Epoch 12/25\n",
      "157/157 [==============================] - 335s 2s/step - loss: 0.1333 - accuracy: 0.9513 - val_loss: 0.1149 - val_accuracy: 0.9566\n",
      "Epoch 13/25\n",
      "157/157 [==============================] - 385s 2s/step - loss: 0.1317 - accuracy: 0.9516 - val_loss: 0.1172 - val_accuracy: 0.9562\n",
      "Epoch 14/25\n",
      "157/157 [==============================] - 376s 2s/step - loss: 0.1282 - accuracy: 0.9532 - val_loss: 0.1067 - val_accuracy: 0.9591\n",
      "Epoch 15/25\n",
      "157/157 [==============================] - 346s 2s/step - loss: 0.1262 - accuracy: 0.9535 - val_loss: 0.1025 - val_accuracy: 0.9621\n",
      "Epoch 16/25\n",
      "157/157 [==============================] - 335s 2s/step - loss: 0.1216 - accuracy: 0.9549 - val_loss: 0.1008 - val_accuracy: 0.9626\n",
      "Epoch 17/25\n",
      "157/157 [==============================] - 334s 2s/step - loss: 0.1187 - accuracy: 0.9559 - val_loss: 0.1061 - val_accuracy: 0.9605\n",
      "Epoch 18/25\n",
      "157/157 [==============================] - 336s 2s/step - loss: 0.1192 - accuracy: 0.9566 - val_loss: 0.1165 - val_accuracy: 0.9572\n",
      "Epoch 19/25\n",
      "157/157 [==============================] - 334s 2s/step - loss: 0.1172 - accuracy: 0.9573 - val_loss: 0.0972 - val_accuracy: 0.9637\n",
      "Epoch 20/25\n",
      "157/157 [==============================] - 339s 2s/step - loss: 0.1179 - accuracy: 0.9571 - val_loss: 0.1007 - val_accuracy: 0.9633\n",
      "Epoch 21/25\n",
      "157/157 [==============================] - 336s 2s/step - loss: 0.1139 - accuracy: 0.9587 - val_loss: 0.0966 - val_accuracy: 0.9647\n",
      "Epoch 22/25\n",
      "157/157 [==============================] - 335s 2s/step - loss: 0.1114 - accuracy: 0.9597 - val_loss: 0.0991 - val_accuracy: 0.9614\n",
      "Epoch 23/25\n",
      "157/157 [==============================] - 326s 2s/step - loss: 0.1076 - accuracy: 0.9600 - val_loss: 0.0989 - val_accuracy: 0.9637\n",
      "Epoch 24/25\n",
      "157/157 [==============================] - 334s 2s/step - loss: 0.1076 - accuracy: 0.9614 - val_loss: 0.0991 - val_accuracy: 0.9643\n",
      "Epoch 25/25\n",
      "157/157 [==============================] - 335s 2s/step - loss: 0.1060 - accuracy: 0.9623 - val_loss: 0.1025 - val_accuracy: 0.9609\n"
     ]
    },
    {
     "data": {
      "text/plain": [
       "<keras.src.callbacks.History at 0x242b98edd90>"
      ]
     },
     "execution_count": 18,
     "metadata": {},
     "output_type": "execute_result"
    }
   ],
   "source": [
    "#COMPAILING THE TRAINING MODEL\n",
    "\n",
    "#comapiling\n",
    "cnn.compile(optimizer = 'adam', loss = 'binary_crossentropy', metrics = ['accuracy'])\n",
    "\n",
    "#training the model\n",
    "cnn.fit(x=training_set,validation_data=test_set,epochs=25)"
   ]
  },
  {
   "cell_type": "code",
   "execution_count": 80,
   "metadata": {
    "id": "7JixLQe72HU1"
   },
   "outputs": [
    {
     "name": "stdout",
     "output_type": "stream",
     "text": [
      "1/1 [==============================] - 0s 16ms/step\n",
      "male\n"
     ]
    }
   ],
   "source": [
    "\n",
    "from keras.preprocessing import image\n",
    "test_image = image.load_img('dataset/single_prediction/female1.jpg', target_size = (124, 124))\n",
    "test_image = image.img_to_array(test_image)\n",
    "test_image = np.expand_dims(test_image, axis = 0)\n",
    "result = cnn.predict(test_image)\n",
    "training_set.class_indices\n",
    "if result[0][0] == 1:\n",
    "  prediction = 'male'\n",
    "\n",
    "else:\n",
    "  prediction = 'female'\n",
    "\n",
    "print(prediction)"
   ]
  }
 ],
 "metadata": {
  "colab": {
   "provenance": []
  },
  "kernelspec": {
   "display_name": "Python 3 (ipykernel)",
   "language": "python",
   "name": "python3"
  },
  "language_info": {
   "codemirror_mode": {
    "name": "ipython",
    "version": 3
   },
   "file_extension": ".py",
   "mimetype": "text/x-python",
   "name": "python",
   "nbconvert_exporter": "python",
   "pygments_lexer": "ipython3",
   "version": "3.11.4"
  }
 },
 "nbformat": 4,
 "nbformat_minor": 1
}
